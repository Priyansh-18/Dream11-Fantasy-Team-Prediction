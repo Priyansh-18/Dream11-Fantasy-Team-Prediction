{
 "cells": [
  {
   "cell_type": "code",
   "execution_count": 1,
   "id": "4ea9bed1",
   "metadata": {},
   "outputs": [],
   "source": [
    "import pandas as pd"
   ]
  },
  {
   "cell_type": "code",
   "execution_count": 2,
   "id": "412cd8e6",
   "metadata": {},
   "outputs": [],
   "source": [
    "ball_data = pd.read_csv('IPL_Ball_by_Ball_2008_2022.csv')\n",
    "new_ball_data = ball_data[ball_data['ID'] > ball_data['ID'].mean()]\n"
   ]
  },
  {
   "cell_type": "code",
   "execution_count": null,
   "id": "d329e095-1a76-4063-9bba-c96464edfbd6",
   "metadata": {},
   "outputs": [],
   "source": []
  },
  {
   "cell_type": "code",
   "execution_count": 3,
   "id": "eeaf5a65-98fc-41b5-8443-eb2e06aaec77",
   "metadata": {},
   "outputs": [],
   "source": [
    "player_list1 = ['Ishan Kishan', 'RG Sharma', 'SA Yadav', 'Tilak Varma', 'TH David', 'CJ Green', 'HR Shokeen', 'JC Archer', 'PP Chawla','JP Behrendorff','RP Meredith']\n",
    "player_list2 = ['WP Saha', 'Shubman Gill', 'HH Pandya', 'V Shankar', 'DA Miller', 'R Tewatia', 'Rashid Khan', 'MM Sharma', 'Mohammed Shami']"
   ]
  },
  {
   "cell_type": "code",
   "execution_count": 4,
   "id": "c3a839fc",
   "metadata": {},
   "outputs": [],
   "source": [
    "record = pd.DataFrame()\n",
    "\n",
    "for i in range(len(player_list1)):\n",
    "    for j in range(len(player_list2)):\n",
    "        for index, row in new_ball_data[(new_ball_data['batter'] == player_list1[i]) & (new_ball_data['bowler'] == player_list2[j])].iterrows():\n",
    "            record = pd.concat([record, row.to_frame().T], axis=0, ignore_index=True)\n",
    "    "
   ]
  },
  {
   "cell_type": "code",
   "execution_count": 5,
   "id": "eeb97bd4-14fa-48b2-a154-9c1be1ec7397",
   "metadata": {},
   "outputs": [],
   "source": [
    "\n",
    "for a in range(len(player_list2)):\n",
    "    for b in range(len(player_list1)):\n",
    "        for index, row in new_ball_data[(new_ball_data['batter'] == player_list2[a]) & (new_ball_data['bowler'] == player_list1[b])].iterrows():\n",
    "            record = pd.concat([record, row.to_frame().T], axis=0, ignore_index=True)"
   ]
  },
  {
   "cell_type": "code",
   "execution_count": 6,
   "id": "727a15b1-1859-4216-b756-ac4e3352aedc",
   "metadata": {},
   "outputs": [
    {
     "data": {
      "text/plain": [
       "batter\n",
       "Ishan Kishan    168\n",
       "SA Yadav        114\n",
       "HH Pandya        95\n",
       "RG Sharma        87\n",
       "WP Saha          40\n",
       "V Shankar        40\n",
       "TH David         29\n",
       "DA Miller        27\n",
       "JC Archer        15\n",
       "Rashid Khan      12\n",
       "Shubman Gill     11\n",
       "PP Chawla         9\n",
       "Tilak Varma       6\n",
       "R Tewatia         4\n",
       "Name: batsman_run, dtype: object"
      ]
     },
     "execution_count": 6,
     "metadata": {},
     "output_type": "execute_result"
    }
   ],
   "source": [
    "top_batsman = record.groupby('batter')['batsman_run'].sum()[record[\"batter\"].unique()].sort_values(ascending=False)\n",
    "top_batsman"
   ]
  },
  {
   "cell_type": "code",
   "execution_count": 7,
   "id": "191019bd-50f8-42e9-a4e3-8b03c82f40f0",
   "metadata": {},
   "outputs": [
    {
     "data": {
      "text/plain": [
       "bowler\n",
       "Rashid Khan       5\n",
       "Mohammed Shami    5\n",
       "JC Archer         5\n",
       "R Tewatia         3\n",
       "PP Chawla         3\n",
       "V Shankar         2\n",
       "RP Meredith       2\n",
       "HH Pandya         1\n",
       "MM Sharma         0\n",
       "CJ Green          0\n",
       "JP Behrendorff    0\n",
       "Name: isWicketDelivery, dtype: object"
      ]
     },
     "execution_count": 7,
     "metadata": {},
     "output_type": "execute_result"
    }
   ],
   "source": [
    "top_bowler = record.groupby('bowler')['isWicketDelivery'].sum()[record[\"bowler\"].unique()].sort_values(ascending=False)\n",
    "top_bowler"
   ]
  },
  {
   "cell_type": "code",
   "execution_count": 8,
   "id": "92e0d5a4-333e-4a62-8e12-a642d417d5fa",
   "metadata": {},
   "outputs": [
    {
     "data": {
      "text/html": [
       "<div>\n",
       "<style scoped>\n",
       "    .dataframe tbody tr th:only-of-type {\n",
       "        vertical-align: middle;\n",
       "    }\n",
       "\n",
       "    .dataframe tbody tr th {\n",
       "        vertical-align: top;\n",
       "    }\n",
       "\n",
       "    .dataframe thead th {\n",
       "        text-align: right;\n",
       "    }\n",
       "</style>\n",
       "<table border=\"1\" class=\"dataframe\">\n",
       "  <thead>\n",
       "    <tr style=\"text-align: right;\">\n",
       "      <th></th>\n",
       "      <th>0</th>\n",
       "      <th>1</th>\n",
       "    </tr>\n",
       "  </thead>\n",
       "  <tbody>\n",
       "    <tr>\n",
       "      <th>Ishan Kishan</th>\n",
       "      <td>168</td>\n",
       "      <td>NaN</td>\n",
       "    </tr>\n",
       "    <tr>\n",
       "      <th>SA Yadav</th>\n",
       "      <td>114</td>\n",
       "      <td>NaN</td>\n",
       "    </tr>\n",
       "    <tr>\n",
       "      <th>HH Pandya</th>\n",
       "      <td>95</td>\n",
       "      <td>1</td>\n",
       "    </tr>\n",
       "    <tr>\n",
       "      <th>RG Sharma</th>\n",
       "      <td>87</td>\n",
       "      <td>NaN</td>\n",
       "    </tr>\n",
       "    <tr>\n",
       "      <th>WP Saha</th>\n",
       "      <td>40</td>\n",
       "      <td>NaN</td>\n",
       "    </tr>\n",
       "    <tr>\n",
       "      <th>V Shankar</th>\n",
       "      <td>40</td>\n",
       "      <td>2</td>\n",
       "    </tr>\n",
       "    <tr>\n",
       "      <th>TH David</th>\n",
       "      <td>29</td>\n",
       "      <td>NaN</td>\n",
       "    </tr>\n",
       "    <tr>\n",
       "      <th>DA Miller</th>\n",
       "      <td>27</td>\n",
       "      <td>NaN</td>\n",
       "    </tr>\n",
       "    <tr>\n",
       "      <th>JC Archer</th>\n",
       "      <td>15</td>\n",
       "      <td>5</td>\n",
       "    </tr>\n",
       "    <tr>\n",
       "      <th>Rashid Khan</th>\n",
       "      <td>12</td>\n",
       "      <td>5</td>\n",
       "    </tr>\n",
       "    <tr>\n",
       "      <th>Shubman Gill</th>\n",
       "      <td>11</td>\n",
       "      <td>NaN</td>\n",
       "    </tr>\n",
       "    <tr>\n",
       "      <th>PP Chawla</th>\n",
       "      <td>9</td>\n",
       "      <td>3</td>\n",
       "    </tr>\n",
       "    <tr>\n",
       "      <th>Tilak Varma</th>\n",
       "      <td>6</td>\n",
       "      <td>NaN</td>\n",
       "    </tr>\n",
       "    <tr>\n",
       "      <th>R Tewatia</th>\n",
       "      <td>4</td>\n",
       "      <td>3</td>\n",
       "    </tr>\n",
       "    <tr>\n",
       "      <th>Mohammed Shami</th>\n",
       "      <td>NaN</td>\n",
       "      <td>5</td>\n",
       "    </tr>\n",
       "    <tr>\n",
       "      <th>RP Meredith</th>\n",
       "      <td>NaN</td>\n",
       "      <td>2</td>\n",
       "    </tr>\n",
       "    <tr>\n",
       "      <th>MM Sharma</th>\n",
       "      <td>NaN</td>\n",
       "      <td>0</td>\n",
       "    </tr>\n",
       "    <tr>\n",
       "      <th>CJ Green</th>\n",
       "      <td>NaN</td>\n",
       "      <td>0</td>\n",
       "    </tr>\n",
       "    <tr>\n",
       "      <th>JP Behrendorff</th>\n",
       "      <td>NaN</td>\n",
       "      <td>0</td>\n",
       "    </tr>\n",
       "  </tbody>\n",
       "</table>\n",
       "</div>"
      ],
      "text/plain": [
       "                  0    1\n",
       "Ishan Kishan    168  NaN\n",
       "SA Yadav        114  NaN\n",
       "HH Pandya        95    1\n",
       "RG Sharma        87  NaN\n",
       "WP Saha          40  NaN\n",
       "V Shankar        40    2\n",
       "TH David         29  NaN\n",
       "DA Miller        27  NaN\n",
       "JC Archer        15    5\n",
       "Rashid Khan      12    5\n",
       "Shubman Gill     11  NaN\n",
       "PP Chawla         9    3\n",
       "Tilak Varma       6  NaN\n",
       "R Tewatia         4    3\n",
       "Mohammed Shami  NaN    5\n",
       "RP Meredith     NaN    2\n",
       "MM Sharma       NaN    0\n",
       "CJ Green        NaN    0\n",
       "JP Behrendorff  NaN    0"
      ]
     },
     "execution_count": 8,
     "metadata": {},
     "output_type": "execute_result"
    }
   ],
   "source": [
    "top_players = pd.concat([top_batsman, top_bowler], axis=1, ignore_index=True)\n",
    "top_players"
   ]
  },
  {
   "cell_type": "code",
   "execution_count": null,
   "id": "6b9072b0-fef5-4ed0-b27f-9ab2001000e3",
   "metadata": {},
   "outputs": [],
   "source": []
  },
  {
   "cell_type": "code",
   "execution_count": 9,
   "id": "320b5f53",
   "metadata": {},
   "outputs": [],
   "source": [
    "# Fantasy Points\n",
    "\n",
    "Batsman_points = {'Run':1, 'bFour':1, 'bSix':2, '30Runs':4,\n",
    "        'Half_century':8, 'Century':16, 'Duck':-2, '170sr':6,\n",
    "                 '150sr':4, '130sr':2, '70sr':-2, '60sr':-4, '50sr':-6}\n",
    "\n",
    "Bowling_points = {'Wicket':25, 'LBW_Bowled':8, '3W':4, '4W':8, \n",
    "                  '5W':16, 'Maiden':12, '5rpo':6, '6rpo':4, '7rpo':2, '10rpo':-2,\n",
    "                 '11rpo':-4, '12rpo':-6}\n",
    "\n",
    "Fielding_points = {'Catch':8, '3Cath':4, 'Stumping':12, 'RunOutD':12,\n",
    "                  'RunOutInd':6}"
   ]
  },
  {
   "cell_type": "code",
   "execution_count": 10,
   "id": "f0a0bdfb-4b73-469b-a3e3-7b5c84e81150",
   "metadata": {},
   "outputs": [],
   "source": []
  },
  {
   "cell_type": "code",
   "execution_count": null,
   "id": "f61e598c-59ec-4dce-8a2c-83b259a94ddd",
   "metadata": {},
   "outputs": [],
   "source": []
  },
  {
   "cell_type": "code",
   "execution_count": null,
   "id": "ca3b4429-563f-4e65-9c99-18d10f702a6d",
   "metadata": {},
   "outputs": [],
   "source": []
  },
  {
   "cell_type": "code",
   "execution_count": null,
   "id": "5e46ca51-0c9c-4d1e-8aab-609496144348",
   "metadata": {},
   "outputs": [],
   "source": []
  }
 ],
 "metadata": {
  "kernelspec": {
   "display_name": "Python 3 (ipykernel)",
   "language": "python",
   "name": "python3"
  },
  "language_info": {
   "codemirror_mode": {
    "name": "ipython",
    "version": 3
   },
   "file_extension": ".py",
   "mimetype": "text/x-python",
   "name": "python",
   "nbconvert_exporter": "python",
   "pygments_lexer": "ipython3",
   "version": "3.10.9"
  }
 },
 "nbformat": 4,
 "nbformat_minor": 5
}
